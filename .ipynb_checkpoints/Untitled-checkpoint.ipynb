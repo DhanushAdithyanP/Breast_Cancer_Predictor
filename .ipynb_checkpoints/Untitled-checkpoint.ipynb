{
 "cells": [
  {
   "cell_type": "code",
   "execution_count": null,
   "id": "c01bff54-b9d3-4ab2-8869-53ee9b37549f",
   "metadata": {},
   "outputs": [],
   "source": [
    "#Import the Library\n",
    "import pandas as pd\n",
    "import matplotlib.pyplot as plt\n",
    "import numpy as np\n",
    "import seaborn as sns\n",
    "from scipy import stats\n",
    "from scipy.stats import pearsonr\n",
    "\n",
    "data = pd.read_csv(\"Data/data.csv\")\n",
    "\n",
    "# Filter the dataset to obtain the malignant and benign tumor data\n",
    "malignant_data = data.loc[data['diagnosis'] == 'M'][['diagnosis', 'radius_mean']]\n",
    "benign_data = data.loc[data['diagnosis'] == 'B'][['diagnosis', 'radius_mean']]"
   ]
  }
 ],
 "metadata": {
  "kernelspec": {
   "display_name": "Python 3 (ipykernel)",
   "language": "python",
   "name": "python3"
  },
  "language_info": {
   "codemirror_mode": {
    "name": "ipython",
    "version": 3
   },
   "file_extension": ".py",
   "mimetype": "text/x-python",
   "name": "python",
   "nbconvert_exporter": "python",
   "pygments_lexer": "ipython3",
   "version": "3.11.6"
  }
 },
 "nbformat": 4,
 "nbformat_minor": 5
}
